{
 "cells": [
  {
   "cell_type": "code",
   "execution_count": null,
   "metadata": {},
   "outputs": [],
   "source": [
    "class Carrera:\n",
    "    def __init__(self, nombre, nro_estudiantes, nomFacultad):\n",
    "        self.nombre= nombre\n",
    "        self.nro_estudiantes=nro_estudiantes\n",
    "        self.nomFacultad=nomFacultad"
   ]
  },
  {
   "cell_type": "code",
   "execution_count": null,
   "metadata": {},
   "outputs": [],
   "source": [
    "def __str__(self):\n",
    "    return \"Carrera :{} , Facultad que pertenece:{} , numero de estudiantes :{}\".format(self.nombre, self.nomFacultad, self.nro_estudiantes)"
   ]
  },
  {
   "cell_type": "code",
   "execution_count": 5,
   "metadata": {},
   "outputs": [],
   "source": [
    "class CarToyota:\n",
    "    marca=\"Nissan\"\n",
    "    instance_count=0\n",
    "    \n",
    "# es un metodo que devuelve un metodo de clase para la funcion dada\n",
    "    @classmethod\n",
    "    def increment_instance_count(cls):\n",
    "        cls.instance_count+=1\n",
    "        \n",
    "    def __init__(self,color,model):\n",
    "        CarToyota.increment_instance_count()\n",
    "        self.color= color\n",
    "        self.model=model\n",
    "        \n",
    "    def encender(self):\n",
    "        print(\"coche encendido\")\n",
    "    \n",
    "    def avanzar(self):\n",
    "        print(\"Coche avanzando\")\n",
    "        \n",
    "    def cambia_color(self,color):\n",
    "        self.color=color"
   ]
  },
  {
   "cell_type": "code",
   "execution_count": 8,
   "metadata": {},
   "outputs": [
    {
     "name": "stdout",
     "output_type": "stream",
     "text": [
      "6\n"
     ]
    }
   ],
   "source": [
    "car =CarToyota(\"x\",\"Y\")\n",
    "\n",
    "CarToyota.increment_instance_count()\n",
    "print(CarToyota.instance_count)"
   ]
  },
  {
   "cell_type": "code",
   "execution_count": null,
   "metadata": {},
   "outputs": [],
   "source": []
  }
 ],
 "metadata": {
  "kernelspec": {
   "display_name": "Python 3",
   "language": "python",
   "name": "python3"
  },
  "language_info": {
   "codemirror_mode": {
    "name": "ipython",
    "version": 3
   },
   "file_extension": ".py",
   "mimetype": "text/x-python",
   "name": "python",
   "nbconvert_exporter": "python",
   "pygments_lexer": "ipython3",
   "version": "3.7.6"
  }
 },
 "nbformat": 4,
 "nbformat_minor": 4
}
