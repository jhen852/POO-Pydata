{
 "cells": [
  {
   "cell_type": "code",
   "execution_count": 1,
   "metadata": {},
   "outputs": [],
   "source": [
    "p1_nombre =\"Reddy\"\n",
    "p1_edad =20\n",
    "p1_genero=\"Hombre\"\n",
    "\n",
    "p2_nombre =\"Mery\"\n",
    "p2_edad =21\n",
    "p2_genero=\"Mujer\""
   ]
  },
  {
   "cell_type": "code",
   "execution_count": 5,
   "metadata": {},
   "outputs": [],
   "source": [
    "def imprimir_persona(nombre,edad,genero):\n",
    "    print(\"nombre:{},edad:{}, genero:{}\".format(nombre,edad,genero))"
   ]
  },
  {
   "cell_type": "markdown",
   "metadata": {},
   "source": [
    "Creamos un metodo imprimir persona y los parametros que añadimos son lo que instanciamos en la primera sentencia"
   ]
  },
  {
   "cell_type": "code",
   "execution_count": 6,
   "metadata": {},
   "outputs": [
    {
     "name": "stdout",
     "output_type": "stream",
     "text": [
      "nombre:Reddy,edad:20, genero:Hombre\n"
     ]
    }
   ],
   "source": [
    "imprimir_persona(p1_nombre, p1_edad,p1_genero)"
   ]
  },
  {
   "cell_type": "markdown",
   "metadata": {},
   "source": [
    "mandaremos el segundo grupo de datos que creamos en la primera sentencia"
   ]
  },
  {
   "cell_type": "code",
   "execution_count": 9,
   "metadata": {},
   "outputs": [
    {
     "name": "stdout",
     "output_type": "stream",
     "text": [
      "nombre:Mery,edad:21, genero:Mujer\n"
     ]
    }
   ],
   "source": [
    "imprimir_persona(p2_nombre,p2_edad,p2_genero)"
   ]
  },
  {
   "cell_type": "markdown",
   "metadata": {},
   "source": [
    "creamos otra funcion "
   ]
  },
  {
   "cell_type": "code",
   "execution_count": 10,
   "metadata": {},
   "outputs": [],
   "source": [
    "def envejecer_persona(nombre):\n",
    "    print(\"envejeciendo a esta perona con nombre :\",nombre)"
   ]
  },
  {
   "cell_type": "code",
   "execution_count": 12,
   "metadata": {},
   "outputs": [
    {
     "name": "stdout",
     "output_type": "stream",
     "text": [
      "envejeciendo a esta perona con nombre : Jhenny\n"
     ]
    }
   ],
   "source": [
    "envejecer_persona(\"Jhenny\")"
   ]
  },
  {
   "cell_type": "markdown",
   "metadata": {},
   "source": [
    "# Palabras que debemos recordar siempre\n",
    "    paradigma orientado a Objetos\n",
    "    clase\n",
    "    Objeto\n",
    "    Instanciar o crear \n",
    "    Abstraer\n",
    "    Constructor"
   ]
  },
  {
   "cell_type": "markdown",
   "metadata": {},
   "source": [
    "para poner cursiva *cursiva*\n",
    "para negrita **negrita**\n",
    "* listas\n",
    "* listas2"
   ]
  },
  {
   "cell_type": "markdown",
   "metadata": {},
   "source": [
    "las listas tambien van por niveles\n",
    "* ASDFADS\n",
    "    * A SDAS\n",
    "       - AS D\n",
    "       + ASDAS"
   ]
  },
  {
   "cell_type": "markdown",
   "metadata": {},
   "source": [
    "[entrar a este link] (htttp://www.youtube.com)"
   ]
  },
  {
   "cell_type": "code",
   "execution_count": 14,
   "metadata": {},
   "outputs": [],
   "source": [
    "from IPython.display import Image"
   ]
  },
  {
   "cell_type": "code",
   "execution_count": null,
   "metadata": {},
   "outputs": [],
   "source": [
    "Image(filename='nombre del achivo.jpg')"
   ]
  },
  {
   "cell_type": "markdown",
   "metadata": {},
   "source": [
    "# Resolviendo el problema con el Paradigma Orientado a Objetos"
   ]
  },
  {
   "cell_type": "code",
   "execution_count": 16,
   "metadata": {},
   "outputs": [],
   "source": [
    "class Persona:\n",
    "    def __init__(self,edad, ci, nombre, apellido):\n",
    "        self.edad=edad\n",
    "        self.ci=ci\n",
    "        self.nombre=nombre\n",
    "        self.apellido=apellido\n",
    "        \n",
    "    def imprimir(self):\n",
    "        print(\"edad:{}, ci: {}, nombre:{}, apellido :{}\".format(self.edad,self.ci,self.nombre,self.apellido))\n",
    "    def __str__(self):\n",
    "        return \"edad: {}, ci: {}, nombre :{}, apellido :{}\".format(self.edad,self.ci,self.nombre,self.apellido)"
   ]
  },
  {
   "cell_type": "code",
   "execution_count": 20,
   "metadata": {},
   "outputs": [],
   "source": [
    "\"\"\"\n",
    "creamos una tabla y despues podemos instanciar un objeto\n",
    "\"\"\"\n",
    "\n",
    "persona1= Persona(22,9254666,\"Jhenny\",\"callapa\")\n",
    "\n",
    "persona2= Persona(21,5644666,\"Jimena\",\"Quispe\")"
   ]
  },
  {
   "cell_type": "code",
   "execution_count": 21,
   "metadata": {},
   "outputs": [
    {
     "name": "stdout",
     "output_type": "stream",
     "text": [
      "edad:22, ci: 9254666, nombre:Jhenny, apellido :callapa\n",
      "edad:21, ci: 5644666, nombre:Jimena, apellido :Quispe\n"
     ]
    }
   ],
   "source": [
    "\"\"\"\n",
    "podemos imprimir \n",
    "\"\"\"\n",
    "\n",
    "persona1.imprimir()\n",
    "persona2.imprimir()"
   ]
  },
  {
   "cell_type": "code",
   "execution_count": 23,
   "metadata": {},
   "outputs": [
    {
     "name": "stdout",
     "output_type": "stream",
     "text": [
      "edad: 22, ci: 9254666, nombre :Jhenny, apellido :callapa\n",
      "edad: 21, ci: 5644666, nombre :Jimena, apellido :Quispe\n"
     ]
    }
   ],
   "source": [
    "\"\"\"\n",
    "Pero tambien se puede imprimir sin la necesidad de crear un metodo para ello\n",
    "__tr__ es una sobrecarga de operadores que nos retorna un string \n",
    "\"\"\"\n",
    "\n",
    "print(persona1)\n",
    "print(persona2)"
   ]
  },
  {
   "cell_type": "code",
   "execution_count": 26,
   "metadata": {},
   "outputs": [
    {
     "name": "stdout",
     "output_type": "stream",
     "text": [
      "edad: 22, ci: 9254666, nombre :Jhenny, apellido :callapa  y   edad: 21, ci: 5644666, nombre :Jimena, apellido :Quispe\n"
     ]
    }
   ],
   "source": [
    "print(str(persona1)+\"  y   \"+str(persona2))"
   ]
  },
  {
   "cell_type": "code",
   "execution_count": null,
   "metadata": {},
   "outputs": [],
   "source": []
  }
 ],
 "metadata": {
  "kernelspec": {
   "display_name": "Python 3",
   "language": "python",
   "name": "python3"
  },
  "language_info": {
   "codemirror_mode": {
    "name": "ipython",
    "version": 3
   },
   "file_extension": ".py",
   "mimetype": "text/x-python",
   "name": "python",
   "nbconvert_exporter": "python",
   "pygments_lexer": "ipython3",
   "version": "3.7.6"
  }
 },
 "nbformat": 4,
 "nbformat_minor": 4
}
